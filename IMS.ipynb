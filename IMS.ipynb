{
 "cells": [
  {
   "cell_type": "markdown",
   "id": "468f9570",
   "metadata": {},
   "source": [
    "# Inventory Management System"
   ]
  },
  {
   "cell_type": "markdown",
   "id": "7f54f17c",
   "metadata": {},
   "source": [
    "## Importing Json "
   ]
  },
  {
   "cell_type": "code",
   "execution_count": 1,
   "id": "9c60646e",
   "metadata": {},
   "outputs": [],
   "source": [
    "import json"
   ]
  },
  {
   "cell_type": "markdown",
   "id": "8c0e9be9",
   "metadata": {},
   "source": [
    " ## Create dictionary with mobile models & it's features"
   ]
  },
  {
   "cell_type": "code",
   "execution_count": 2,
   "id": "244d2ad5",
   "metadata": {},
   "outputs": [],
   "source": [
    "\n",
    "record={ '1MK001':{\"Name\":\"OnePlusNord\",'Price':27978,\"Memory\":'128GB/8GB','Battery':'4115MAH','Quantity':10},\n",
    "         '1MK002':{\"Name\":\"OnePlus9Pro\",'Price':64999,\"Memory\":'128GB/8GB','Battery':'4500MAH','Quantity':10},\n",
    "         '1MK003':{\"Name\":\"OnePlus9R\",'Price':39978,\"Memory\":'128GB/8GB','Battery':'4115MAH','Quantity':8},\n",
    "         '1MK004':{\"Name\":\"OnePlusNord 5G 256GB\",'Price':29989,\"Memory\":'256GB/12GB','Battery':'4115MAH','Quantity':9},\n",
    "         '1MK005':{\"Name\":\"OnePlus8\",'Price':38978,\"Memory\":'128GB/8GB','Battery':'4300MAH','Quantity':10},\n",
    "         '1MK006':{\"Name\":\"OnePlusNord 5G 64GB\",'Price':24999,\"Memory\":'64GB/6GB','Battery':'4115MAH','Quantity':10},\n",
    "         '1MK007':{\"Name\":\"OnePlus8T\",'Price':38999,\"Memory\":'128GB/8GB','Battery':'4500MAH','Quantity':10},\n",
    "         '1MK008':{\"Name\":\"OnePlus8Pro\",'Price':48998,\"Memory\":'128GB/8GB','Battery':'4510MAH','Quantity':5},\n",
    "         '1MK009':{\"Name\":\"OnePlus8Pro 256GB\",'Price':49999,\"Memory\":'128GB/8GB','Battery':'4500MAH','Quantity':7},\n",
    "         '1MK010':{\"Name\":\"OnePlus7 128GB\",'Price':27978,\"Memory\":'128GB/8GB','Battery':'4115MAH','Quantity':10},\n",
    "         '1MK011':{\"Name\":\"OnePlus8T 256GB\",'Price':41999,\"Memory\":'256GB/12GB','Battery':'4500MAH','Quantity':10},\n",
    "         '1MK012':{\"Name\":\"OnePlus8 256GB\",'Price':44978,\"Memory\":'128GB/8GB','Battery':'4300MAH','Quantity':8},\n",
    "         '1MK013':{\"Name\":\"OnePlus7Pro 128GB\",'Price':39978,\"Memory\":'128GB/6GB','Battery':'4000MAH','Quantity':10},\n",
    "         '1MK014':{\"Name\":\"OnePlus3T\",'Price':24999,\"Memory\":'128GB/6GB','Battery':'3400MAH','Quantity':10},\n",
    "         '1MK015':{\"Name\":\"OnePlus7T 128GB\",'Price':34978,\"Memory\":'128GB/8GB','Battery':'3800MAH','Quantity':9},\n",
    "         '1MK016':{\"Name\":\"OnePlus7T\",'Price':27978,\"Memory\":'64GB/8GB','Battery':'3800MAH','Quantity':10},\n",
    "         '1MK017':{\"Name\":\"OnePlus6\",'Price':27978,\"Memory\":'64GB/6GB','Battery':'3300MAH','Quantity':10},\n",
    "         '1MK018':{\"Name\":\"OnePlus7T Pro\",'Price':44990,\"Memory\":'64GB/8GB','Battery':'4085MAH','Quantity':10},\n",
    "         '1MK019':{\"Name\":\"OnePlus7T 256GB\",'Price':34997,\"Memory\":'256GB/8GB','Battery':'3800MAH','Quantity':10},\n",
    "         '1MK020':{\"Name\":\"OnePlus7Pro 256GB\",'Price':46978,\"Memory\":'128GB/8GB','Battery':'4085MAH','Quantity':9 },\n",
    "         '1MK021':{\"Name\":\"OnePlus6T\",'Price':30978,\"Memory\":'128GB/6GB','Battery':'3700MAH','Quantity':10},\n",
    "         '1MK022':{\"Name\":\"OnePlus3\",'Price':7389,\"Memory\":'64GB/6GB','Battery':'3000MAH','Quantity':10},\n",
    "         '1MK023':{\"Name\":\"OnePlus5\",'Price':28978,\"Memory\":'64GB/6GB','Battery':'3300MAH','Quantity':10},\n",
    "         '1MK024':{\"Name\":\"OnePlus6T McLaren\",'Price':44978,\"Memory\":'256GB/10GB','Battery':'3700MAH','Quantity':10},\n",
    "         '1MK025':{\"Name\":\"OnePlus7Pro 12GB\",'Price':49978,\"Memory\":'256GB/12GB','Battery':'4000MAH','Quantity':10},\n",
    "         '1MK026':{\"Name\":\"OnePlus5T 8GB\",'Price':37978,\"Memory\":'128GB/8GB','Battery':'3300MAH','Quantity':10},\n",
    "         '1MK027':{\"Name\":\"OnePlus7 256GB\",'Price':30978,\"Memory\":'128GB/8GB','Battery':'3700MAH','Quantity':10},\n",
    "         '1MK028':{\"Name\":\"OnePlus6T 8GB\",'Price':32978,\"Memory\":'128GB/8GB','Battery':'3700MAH','Quantity':7},\n",
    "         '1MK029':{\"Name\":\"OnePlus5T 6GB\",'Price':32978,\"Memory\":'64GB/6GB','Battery':'3300MAH','Quantity':8},\n",
    "         '1MK030':{\"Name\":\"OnePlus6T 256GB\",'Price':31978,\"Memory\":'256GB/8GB','Battery':'3700MAH','Quantity':9}}\n",
    "\n"
   ]
  },
  {
   "cell_type": "markdown",
   "id": "22201490",
   "metadata": {},
   "source": [
    "## Create dictionary for storing history"
   ]
  },
  {
   "cell_type": "code",
   "execution_count": 3,
   "id": "a057ca21",
   "metadata": {},
   "outputs": [],
   "source": [
    "save={}"
   ]
  },
  {
   "cell_type": "markdown",
   "id": "06b0b1e4",
   "metadata": {},
   "source": [
    "## Dumps json file"
   ]
  },
  {
   "cell_type": "code",
   "execution_count": 4,
   "id": "fcad17d2",
   "metadata": {},
   "outputs": [],
   "source": [
    "js=json.dumps(record)\n",
    "\n",
    "fd=open(\"file.json\",'w')\n",
    "fd.write(js)\n",
    "fd.close()"
   ]
  },
  {
   "cell_type": "code",
   "execution_count": 5,
   "id": "20b75608",
   "metadata": {},
   "outputs": [],
   "source": [
    "js=json.dumps(save)\n",
    "fd=open(\"file1.json\",'w')\n",
    "fd.write(js)\n",
    "fd.close()"
   ]
  },
  {
   "cell_type": "markdown",
   "id": "d99a1617",
   "metadata": {},
   "source": [
    "## Read json file in string format"
   ]
  },
  {
   "cell_type": "code",
   "execution_count": 6,
   "id": "72125687",
   "metadata": {
    "scrolled": true
   },
   "outputs": [],
   "source": [
    "fd=open(\"file.json\",'r')\n",
    "r=fd.read()\n",
    "fd.close() "
   ]
  },
  {
   "cell_type": "code",
   "execution_count": 7,
   "id": "64a0db80",
   "metadata": {},
   "outputs": [],
   "source": [
    "s=r.split(\"},\")"
   ]
  },
  {
   "cell_type": "code",
   "execution_count": 8,
   "id": "f7199c2d",
   "metadata": {},
   "outputs": [],
   "source": [
    "fd=open(\"file1.json\",'r')\n",
    "r1=fd.read()\n",
    "fd.close()"
   ]
  },
  {
   "cell_type": "markdown",
   "id": "092d98da",
   "metadata": {},
   "source": [
    "## Handling with inventory \n",
    "### 1. Display available models\n",
    "### 2. Buy models & Bill generation\n",
    "### 3. Update Inventory with quantity\n",
    "### 4. Add new models in Inventory\n",
    "### 5. Save history of customer\n"
   ]
  },
  {
   "cell_type": "code",
   "execution_count": 9,
   "id": "78e1717f",
   "metadata": {
    "scrolled": true
   },
   "outputs": [
    {
     "name": "stdout",
     "output_type": "stream",
     "text": [
      " ****** WELCOME TO THE OnePlus STORE ****** \n",
      " 1.Available Models\n",
      " 2.Customer\n",
      " 3.Owner\n",
      " 4.Exit\n",
      "*****************************************************************************************************************************\n",
      "Enter Your Choice : 2\n",
      "Enter Product Id : 1MK005\n",
      "Enter Quantity : 4\n",
      "*****************************************************************************************************************************\n",
      "Bill Generation\n",
      "Enter Your Name : Viraj\n",
      "Enter Your Mobile No. : 9087654536\n",
      "Model ID :  1MK005\n",
      "Model Name :  OnePlus8\n",
      "Quantity :  4\n",
      "Price :  38978\n",
      "Total amount :  155912\n",
      "Thank You...!\n",
      "*****************************************************************************************************************************\n",
      " ****** WELCOME TO THE OnePlus STORE ****** \n",
      " 1.Available Models\n",
      " 2.Customer\n",
      " 3.Owner\n",
      " 4.Exit\n",
      "*****************************************************************************************************************************\n",
      "Enter Your Choice : 3\n",
      "Username: 0448\n",
      "Password: xyz@123\n",
      "Welcome\n",
      "Enter New Model Details\n",
      "Enter Model ID : 1MK032\n",
      "Enter Model Name: Realme3 Pro\n",
      "Enter Model Price: 14000\n",
      "Enter Model Memory: 64GB/4GB\n",
      "Enter Model Battery: 5000MAH\n",
      "Enter Model Quantity: 12\n",
      "*****************************************************************************************************************************\n",
      " ****** WELCOME TO THE OnePlus STORE ****** \n",
      " 1.Available Models\n",
      " 2.Customer\n",
      " 3.Owner\n",
      " 4.Exit\n",
      "*****************************************************************************************************************************\n"
     ]
    },
    {
     "ename": "KeyboardInterrupt",
     "evalue": "Interrupted by user",
     "output_type": "error",
     "traceback": [
      "\u001b[1;31m---------------------------------------------------------------------------\u001b[0m",
      "\u001b[1;31mKeyboardInterrupt\u001b[0m                         Traceback (most recent call last)",
      "\u001b[1;32m<ipython-input-9-ea4ee5a34334>\u001b[0m in \u001b[0;36m<module>\u001b[1;34m\u001b[0m\n\u001b[0;32m      9\u001b[0m     \u001b[0mprint\u001b[0m\u001b[1;33m(\u001b[0m\u001b[1;34m\" 4.Exit\"\u001b[0m\u001b[1;33m)\u001b[0m\u001b[1;33m\u001b[0m\u001b[1;33m\u001b[0m\u001b[0m\n\u001b[0;32m     10\u001b[0m     \u001b[0mprint\u001b[0m\u001b[1;33m(\u001b[0m\u001b[1;34m\"*****************************************************************************************************************************\"\u001b[0m\u001b[1;33m)\u001b[0m\u001b[1;33m\u001b[0m\u001b[1;33m\u001b[0m\u001b[0m\n\u001b[1;32m---> 11\u001b[1;33m     \u001b[0ma\u001b[0m\u001b[1;33m=\u001b[0m\u001b[0mint\u001b[0m\u001b[1;33m(\u001b[0m\u001b[0minput\u001b[0m\u001b[1;33m(\u001b[0m\u001b[1;34m\"Enter Your Choice : \"\u001b[0m\u001b[1;33m)\u001b[0m\u001b[1;33m)\u001b[0m\u001b[1;33m\u001b[0m\u001b[1;33m\u001b[0m\u001b[0m\n\u001b[0m\u001b[0;32m     12\u001b[0m \u001b[1;33m\u001b[0m\u001b[0m\n\u001b[0;32m     13\u001b[0m     \u001b[1;32mif\u001b[0m\u001b[1;33m(\u001b[0m\u001b[0ma\u001b[0m\u001b[1;33m==\u001b[0m\u001b[1;36m1\u001b[0m\u001b[1;33m)\u001b[0m\u001b[1;33m:\u001b[0m\u001b[1;33m\u001b[0m\u001b[1;33m\u001b[0m\u001b[0m\n",
      "\u001b[1;32mD:\\anaconda3\\lib\\site-packages\\ipykernel\\kernelbase.py\u001b[0m in \u001b[0;36mraw_input\u001b[1;34m(self, prompt)\u001b[0m\n\u001b[0;32m    858\u001b[0m                 \u001b[1;34m\"raw_input was called, but this frontend does not support input requests.\"\u001b[0m\u001b[1;33m\u001b[0m\u001b[1;33m\u001b[0m\u001b[0m\n\u001b[0;32m    859\u001b[0m             )\n\u001b[1;32m--> 860\u001b[1;33m         return self._input_request(str(prompt),\n\u001b[0m\u001b[0;32m    861\u001b[0m             \u001b[0mself\u001b[0m\u001b[1;33m.\u001b[0m\u001b[0m_parent_ident\u001b[0m\u001b[1;33m,\u001b[0m\u001b[1;33m\u001b[0m\u001b[1;33m\u001b[0m\u001b[0m\n\u001b[0;32m    862\u001b[0m             \u001b[0mself\u001b[0m\u001b[1;33m.\u001b[0m\u001b[0m_parent_header\u001b[0m\u001b[1;33m,\u001b[0m\u001b[1;33m\u001b[0m\u001b[1;33m\u001b[0m\u001b[0m\n",
      "\u001b[1;32mD:\\anaconda3\\lib\\site-packages\\ipykernel\\kernelbase.py\u001b[0m in \u001b[0;36m_input_request\u001b[1;34m(self, prompt, ident, parent, password)\u001b[0m\n\u001b[0;32m    902\u001b[0m             \u001b[1;32mexcept\u001b[0m \u001b[0mKeyboardInterrupt\u001b[0m\u001b[1;33m:\u001b[0m\u001b[1;33m\u001b[0m\u001b[1;33m\u001b[0m\u001b[0m\n\u001b[0;32m    903\u001b[0m                 \u001b[1;31m# re-raise KeyboardInterrupt, to truncate traceback\u001b[0m\u001b[1;33m\u001b[0m\u001b[1;33m\u001b[0m\u001b[1;33m\u001b[0m\u001b[0m\n\u001b[1;32m--> 904\u001b[1;33m                 \u001b[1;32mraise\u001b[0m \u001b[0mKeyboardInterrupt\u001b[0m\u001b[1;33m(\u001b[0m\u001b[1;34m\"Interrupted by user\"\u001b[0m\u001b[1;33m)\u001b[0m \u001b[1;32mfrom\u001b[0m \u001b[1;32mNone\u001b[0m\u001b[1;33m\u001b[0m\u001b[1;33m\u001b[0m\u001b[0m\n\u001b[0m\u001b[0;32m    905\u001b[0m             \u001b[1;32mexcept\u001b[0m \u001b[0mException\u001b[0m \u001b[1;32mas\u001b[0m \u001b[0me\u001b[0m\u001b[1;33m:\u001b[0m\u001b[1;33m\u001b[0m\u001b[1;33m\u001b[0m\u001b[0m\n\u001b[0;32m    906\u001b[0m                 \u001b[0mself\u001b[0m\u001b[1;33m.\u001b[0m\u001b[0mlog\u001b[0m\u001b[1;33m.\u001b[0m\u001b[0mwarning\u001b[0m\u001b[1;33m(\u001b[0m\u001b[1;34m\"Invalid Message:\"\u001b[0m\u001b[1;33m,\u001b[0m \u001b[0mexc_info\u001b[0m\u001b[1;33m=\u001b[0m\u001b[1;32mTrue\u001b[0m\u001b[1;33m)\u001b[0m\u001b[1;33m\u001b[0m\u001b[1;33m\u001b[0m\u001b[0m\n",
      "\u001b[1;31mKeyboardInterrupt\u001b[0m: Interrupted by user"
     ]
    }
   ],
   "source": [
    "record=json.loads(r)\n",
    "save=json.loads(r1)\n",
    "\n",
    "while(True):\n",
    "    print(\" ****** WELCOME TO THE OnePlus STORE ****** \")\n",
    "    print(\" 1.Available Models\")\n",
    "    print(\" 2.Customer\")\n",
    "    print(\" 3.Owner\")\n",
    "    print(\" 4.Exit\")\n",
    "    print(\"*****************************************************************************************************************************\")\n",
    "    a=int(input(\"Enter Your Choice : \"))\n",
    "    \n",
    "    if(a==1):\n",
    "        print(s)\n",
    "        print(\"*****************************************************************************************************************************\")\n",
    "       \n",
    "    elif(a==2):\n",
    "        product_id=str(input(\"Enter Product Id : \"))\n",
    "        quantity=int(input(\"Enter Quantity : \"))\n",
    "        \n",
    "        if(quantity>record[product_id]['Quantity']):\n",
    "            print(\"Entered Quantity Is Not Available\")\n",
    "            print(\"*****************************************************************************************************************************\")\n",
    "            \n",
    "        else:\n",
    "            print(\"*****************************************************************************************************************************\")\n",
    "            print(\"Bill Generation\")\n",
    "            name=str(input(\"Enter Your Name : \"))\n",
    "            mb=str(input(\"Enter Your Mobile No. : \"))\n",
    "            print(\"Model ID : \",product_id)\n",
    "            print(\"Model Name : \",record[product_id]['Name'])\n",
    "            print(\"Quantity : \",quantity)\n",
    "            print(\"Price : \",record[product_id]['Price'])\n",
    "            print(\"Total amount : \",record[product_id]['Price']*int(quantity))\n",
    "            print(\"Thank You...!\")\n",
    "            print(\"*****************************************************************************************************************************\")\n",
    "            record[product_id]['Quantity']= record[product_id]['Quantity'] - quantity\n",
    "            save[product_id]={'Customer Name':name,'Mobile No.':mb,'Model Name':record[product_id]['Name'],'Quantity':quantity,'Price':record[product_id]['Price']*int(quantity)}\n",
    "            \n",
    "    \n",
    "    elif(a==3):\n",
    "        Username=input(\"Username: \")\n",
    "        Password=input(\"Password: \")\n",
    "        if(Username=='0448' and Password=='xyz@123'):\n",
    "            print(\"Welcome\")\n",
    "            print(\"Enter New Model Details\")\n",
    "            p_i=str(input(\"Enter Model ID : \"))\n",
    "            p_n=str(input(\"Enter Model Name: \"))\n",
    "            p_r=int(input(\"Enter Model Price: \"))\n",
    "            p_m=str(input(\"Enter Model Memory: \"))\n",
    "            p_b=str(input(\"Enter Model Battery: \"))\n",
    "            p_q=int(input(\"Enter Model Quantity: \"))\n",
    "            record[p_i]={'Name':p_n,'Price':p_r,'Memory':p_m,'Battery':p_b,'Quantity':p_q}\n",
    "            print(\"*****************************************************************************************************************************\")\n",
    "    else:\n",
    "        exit()\n",
    "                \n",
    "        \n",
    "        "
   ]
  },
  {
   "cell_type": "markdown",
   "id": "6a746620",
   "metadata": {},
   "source": [
    "# Updated inventory with items stored in json file"
   ]
  },
  {
   "cell_type": "code",
   "execution_count": 10,
   "id": "deb45b79",
   "metadata": {
    "scrolled": true
   },
   "outputs": [],
   "source": [
    "js=json.dumps(record)\n",
    "\n",
    "fd=open(\"file.json\",\"w\")\n",
    "fd.write(js)\n",
    "fd.close()\n"
   ]
  },
  {
   "cell_type": "code",
   "execution_count": 11,
   "id": "346cf562",
   "metadata": {},
   "outputs": [],
   "source": [
    "fd=open(\"file.json\",'r')\n",
    "r=fd.read()\n",
    "fd.close() "
   ]
  },
  {
   "cell_type": "markdown",
   "id": "9fe0212f",
   "metadata": {},
   "source": [
    "## History of customer "
   ]
  },
  {
   "cell_type": "code",
   "execution_count": 12,
   "id": "fcfa235b",
   "metadata": {},
   "outputs": [],
   "source": [
    "js=json.dumps(save)\n",
    "fd=open(\"file1.json\",\"w\")\n",
    "fd.write(js)\n",
    "fd.close()"
   ]
  },
  {
   "cell_type": "code",
   "execution_count": 13,
   "id": "aa95c644",
   "metadata": {},
   "outputs": [],
   "source": [
    "fd=open(\"file1.json\",'r')\n",
    "r1=fd.read()\n",
    "fd.close() \n"
   ]
  }
 ],
 "metadata": {
  "kernelspec": {
   "display_name": "Python 3",
   "language": "python",
   "name": "python3"
  },
  "language_info": {
   "codemirror_mode": {
    "name": "ipython",
    "version": 3
   },
   "file_extension": ".py",
   "mimetype": "text/x-python",
   "name": "python",
   "nbconvert_exporter": "python",
   "pygments_lexer": "ipython3",
   "version": "3.8.8"
  }
 },
 "nbformat": 4,
 "nbformat_minor": 5
}
